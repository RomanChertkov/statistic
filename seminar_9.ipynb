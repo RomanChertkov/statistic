{
 "cells": [
  {
   "cell_type": "code",
   "execution_count": 1,
   "metadata": {
    "collapsed": true,
    "ExecuteTime": {
     "start_time": "2023-04-12T23:49:49.660378Z",
     "end_time": "2023-04-12T23:49:50.202294Z"
    }
   },
   "outputs": [],
   "source": [
    "import numpy as np\n",
    "from scipy import stats"
   ]
  },
  {
   "cell_type": "markdown",
   "source": [
    "# Семинар 9\n",
    "\n",
    "## Задача1\n",
    "\n",
    "Даны значения величины заработной платы заемщиков банка (zp) и значения их поведенческого кредитного скоринга (ks): zp = [35, 45, 190, 200, 40, 70, 54, 150, 120, 110], ks = [401, 574, 874, 919, 459, 739, 653, 902, 746, 832]. Используя математические операции, посчитать коэффициенты линейной регрессии, приняв за X заработную плату (то есть, zp - признак), а за y - значения скорингового балла (то есть, ks - целевая переменная). Произвести расчет как с использованием intercept, так и без."
   ],
   "metadata": {
    "collapsed": false
   }
  },
  {
   "cell_type": "code",
   "execution_count": 2,
   "outputs": [],
   "source": [
    "zp = np.array([35, 45, 190, 200, 40, 70, 54, 150, 120, 110])\n",
    "ks = np.array([401, 574, 874, 919, 459, 739, 653, 902, 746, 832])"
   ],
   "metadata": {
    "collapsed": false,
    "ExecuteTime": {
     "start_time": "2023-04-12T23:49:50.207536Z",
     "end_time": "2023-04-12T23:49:50.209993Z"
    }
   }
  },
  {
   "cell_type": "code",
   "execution_count": 3,
   "outputs": [
    {
     "data": {
      "text/plain": "2.620538882402765"
     },
     "execution_count": 3,
     "metadata": {},
     "output_type": "execute_result"
    }
   ],
   "source": [
    "b1 = (np.mean(zp*ks)-np.mean(ks)*np.mean(zp))/(np.mean(zp**2)-np.mean(zp)**2)\n",
    "b1"
   ],
   "metadata": {
    "collapsed": false,
    "ExecuteTime": {
     "start_time": "2023-04-12T23:49:50.212968Z",
     "end_time": "2023-04-12T23:49:50.254744Z"
    }
   }
  },
  {
   "cell_type": "code",
   "execution_count": 4,
   "outputs": [
    {
     "data": {
      "text/plain": "444.1773573243596"
     },
     "execution_count": 4,
     "metadata": {},
     "output_type": "execute_result"
    }
   ],
   "source": [
    "b0 = np.mean(ks)-b1*np.mean(zp)\n",
    "b0"
   ],
   "metadata": {
    "collapsed": false,
    "ExecuteTime": {
     "start_time": "2023-04-12T23:49:50.233968Z",
     "end_time": "2023-04-12T23:49:50.255046Z"
    }
   }
  },
  {
   "cell_type": "code",
   "execution_count": 5,
   "outputs": [
    {
     "data": {
      "text/plain": "array([535.89621821, 562.10160703, 942.07974498, 968.2851338 ,\n       548.99891262, 627.61507909, 585.68645697, 837.25818968,\n       758.64202321, 732.43663439])"
     },
     "execution_count": 5,
     "metadata": {},
     "output_type": "execute_result"
    }
   ],
   "source": [
    "y_pred = b0+b1*zp\n",
    "y_pred"
   ],
   "metadata": {
    "collapsed": false,
    "ExecuteTime": {
     "start_time": "2023-04-12T23:49:57.880973Z",
     "end_time": "2023-04-12T23:49:57.900896Z"
    }
   }
  },
  {
   "cell_type": "code",
   "execution_count": 6,
   "outputs": [
    {
     "data": {
      "text/plain": "5.889820420132689"
     },
     "execution_count": 6,
     "metadata": {},
     "output_type": "execute_result"
    }
   ],
   "source": [
    "# расчет без intercept\n",
    "b_wi = np.sum(zp * ks) / np.sum(zp ** 2)\n",
    "b_wi"
   ],
   "metadata": {
    "collapsed": false,
    "ExecuteTime": {
     "start_time": "2023-04-12T23:49:59.952599Z",
     "end_time": "2023-04-12T23:49:59.975794Z"
    }
   }
  },
  {
   "cell_type": "code",
   "execution_count": 7,
   "outputs": [
    {
     "data": {
      "text/plain": "array([ 206.1437147 ,  265.04191891, 1119.06587983, 1177.96408403,\n        235.59281681,  412.28742941,  318.05030269,  883.47306302,\n        706.77845042,  647.88024621])"
     },
     "execution_count": 7,
     "metadata": {},
     "output_type": "execute_result"
    }
   ],
   "source": [
    "y_pred = b_wi*zp\n",
    "y_pred"
   ],
   "metadata": {
    "collapsed": false,
    "ExecuteTime": {
     "start_time": "2023-04-12T23:50:01.863487Z",
     "end_time": "2023-04-12T23:50:01.905767Z"
    }
   }
  },
  {
   "cell_type": "markdown",
   "source": [
    "## Задача 2\n",
    "\n",
    "Посчитать коэффициент линейной регрессии при заработной плате (zp), используя градиентный спуск (без intercept)."
   ],
   "metadata": {
    "collapsed": false
   }
  },
  {
   "cell_type": "code",
   "execution_count": 8,
   "outputs": [
    {
     "data": {
      "text/plain": "(array([ 35,  45, 190, 200,  40,  70,  54, 150, 120, 110]),\n array([401, 574, 874, 919, 459, 739, 653, 902, 746, 832]))"
     },
     "execution_count": 8,
     "metadata": {},
     "output_type": "execute_result"
    }
   ],
   "source": [
    "x = zp\n",
    "y = ks\n",
    "x,y"
   ],
   "metadata": {
    "collapsed": false,
    "ExecuteTime": {
     "start_time": "2023-04-12T23:50:05.059939Z",
     "end_time": "2023-04-12T23:50:05.068743Z"
    }
   }
  },
  {
   "cell_type": "code",
   "execution_count": 9,
   "outputs": [],
   "source": [
    "def mse_ (B1,y=y, x=x,n =10):\n",
    "    return np.sum((B1*x-y)**2)/n"
   ],
   "metadata": {
    "collapsed": false,
    "ExecuteTime": {
     "start_time": "2023-04-12T23:50:06.772366Z",
     "end_time": "2023-04-12T23:50:06.798690Z"
    }
   }
  },
  {
   "cell_type": "code",
   "execution_count": 10,
   "outputs": [],
   "source": [
    "alpha = 1e-6"
   ],
   "metadata": {
    "collapsed": false,
    "ExecuteTime": {
     "start_time": "2023-04-12T23:50:09.085923Z",
     "end_time": "2023-04-12T23:50:09.104656Z"
    }
   }
  },
  {
   "cell_type": "code",
   "execution_count": 11,
   "outputs": [],
   "source": [
    "B1 = 0.1\n",
    "n = 10"
   ],
   "metadata": {
    "collapsed": false,
    "ExecuteTime": {
     "start_time": "2023-04-12T23:50:11.874134Z",
     "end_time": "2023-04-12T23:50:11.890711Z"
    }
   }
  },
  {
   "cell_type": "code",
   "execution_count": 12,
   "outputs": [
    {
     "name": "stdout",
     "output_type": "stream",
     "text": [
      "Iteration=0 B1=0.25952808 mse=493237.7212546963\n",
      "Iteration=500 B1=5.889815595583751 mse=56516.858416040064\n",
      "Iteration=1000 B1=5.8898204201285544 mse=56516.85841571941\n",
      "Iteration=1500 B1=5.889820420132673 mse=56516.85841571943\n",
      "Iteration=2000 B1=5.889820420132673 mse=56516.85841571943\n",
      "Iteration=2500 B1=5.889820420132673 mse=56516.85841571943\n",
      "Iteration=3000 B1=5.889820420132673 mse=56516.85841571943\n",
      "Iteration=3500 B1=5.889820420132673 mse=56516.85841571943\n",
      "Iteration=4000 B1=5.889820420132673 mse=56516.85841571943\n",
      "Iteration=4500 B1=5.889820420132673 mse=56516.85841571943\n",
      "Iteration=5000 B1=5.889820420132673 mse=56516.85841571943\n",
      "Iteration=5500 B1=5.889820420132673 mse=56516.85841571943\n",
      "Iteration=6000 B1=5.889820420132673 mse=56516.85841571943\n",
      "Iteration=6500 B1=5.889820420132673 mse=56516.85841571943\n",
      "Iteration=7000 B1=5.889820420132673 mse=56516.85841571943\n",
      "Iteration=7500 B1=5.889820420132673 mse=56516.85841571943\n",
      "Iteration=8000 B1=5.889820420132673 mse=56516.85841571943\n",
      "Iteration=8500 B1=5.889820420132673 mse=56516.85841571943\n",
      "Iteration=9000 B1=5.889820420132673 mse=56516.85841571943\n",
      "Iteration=9500 B1=5.889820420132673 mse=56516.85841571943\n",
      "Iteration=10000 B1=5.889820420132673 mse=56516.85841571943\n",
      "Iteration=10500 B1=5.889820420132673 mse=56516.85841571943\n",
      "Iteration=11000 B1=5.889820420132673 mse=56516.85841571943\n",
      "Iteration=11500 B1=5.889820420132673 mse=56516.85841571943\n",
      "Iteration=12000 B1=5.889820420132673 mse=56516.85841571943\n",
      "Iteration=12500 B1=5.889820420132673 mse=56516.85841571943\n",
      "Iteration=13000 B1=5.889820420132673 mse=56516.85841571943\n",
      "Iteration=13500 B1=5.889820420132673 mse=56516.85841571943\n",
      "Iteration=14000 B1=5.889820420132673 mse=56516.85841571943\n",
      "Iteration=14500 B1=5.889820420132673 mse=56516.85841571943\n",
      "Iteration=15000 B1=5.889820420132673 mse=56516.85841571943\n",
      "Iteration=15500 B1=5.889820420132673 mse=56516.85841571943\n",
      "Iteration=16000 B1=5.889820420132673 mse=56516.85841571943\n",
      "Iteration=16500 B1=5.889820420132673 mse=56516.85841571943\n",
      "Iteration=17000 B1=5.889820420132673 mse=56516.85841571943\n",
      "Iteration=17500 B1=5.889820420132673 mse=56516.85841571943\n",
      "Iteration=18000 B1=5.889820420132673 mse=56516.85841571943\n",
      "Iteration=18500 B1=5.889820420132673 mse=56516.85841571943\n",
      "Iteration=19000 B1=5.889820420132673 mse=56516.85841571943\n",
      "Iteration=19500 B1=5.889820420132673 mse=56516.85841571943\n",
      "Iteration=20000 B1=5.889820420132673 mse=56516.85841571943\n",
      "Iteration=20500 B1=5.889820420132673 mse=56516.85841571943\n",
      "Iteration=21000 B1=5.889820420132673 mse=56516.85841571943\n",
      "Iteration=21500 B1=5.889820420132673 mse=56516.85841571943\n",
      "Iteration=22000 B1=5.889820420132673 mse=56516.85841571943\n",
      "Iteration=22500 B1=5.889820420132673 mse=56516.85841571943\n",
      "Iteration=23000 B1=5.889820420132673 mse=56516.85841571943\n",
      "Iteration=23500 B1=5.889820420132673 mse=56516.85841571943\n",
      "Iteration=24000 B1=5.889820420132673 mse=56516.85841571943\n",
      "Iteration=24500 B1=5.889820420132673 mse=56516.85841571943\n",
      "Iteration=25000 B1=5.889820420132673 mse=56516.85841571943\n",
      "Iteration=25500 B1=5.889820420132673 mse=56516.85841571943\n",
      "Iteration=26000 B1=5.889820420132673 mse=56516.85841571943\n",
      "Iteration=26500 B1=5.889820420132673 mse=56516.85841571943\n",
      "Iteration=27000 B1=5.889820420132673 mse=56516.85841571943\n",
      "Iteration=27500 B1=5.889820420132673 mse=56516.85841571943\n",
      "Iteration=28000 B1=5.889820420132673 mse=56516.85841571943\n",
      "Iteration=28500 B1=5.889820420132673 mse=56516.85841571943\n",
      "Iteration=29000 B1=5.889820420132673 mse=56516.85841571943\n",
      "Iteration=29500 B1=5.889820420132673 mse=56516.85841571943\n"
     ]
    }
   ],
   "source": [
    "for i in range(30000):\n",
    "    B1-= alpha *(2/n)* np.sum((B1*x-y)*x)\n",
    "    if i % 500 == 0:\n",
    "        print(\"Iteration={i} B1={B1} mse={mse}\". format(i=i, B1=B1, mse=mse_(B1)))"
   ],
   "metadata": {
    "collapsed": false,
    "ExecuteTime": {
     "start_time": "2023-04-12T23:50:18.720503Z",
     "end_time": "2023-04-12T23:50:19.078699Z"
    }
   }
  },
  {
   "cell_type": "markdown",
   "source": [
    "Коэффициент линейной регрессии без interceptor = 5.8898"
   ],
   "metadata": {
    "collapsed": false
   }
  },
  {
   "cell_type": "markdown",
   "source": [
    "    ## Задача 3\n",
    "Произвести вычисления как в пункте 2, но с вычислением intercept. Учесть, что изменение коэффициентов должно производиться на каждом шаге одновременно (то есть изменение одного коэффициента не должно влиять на изменение другого во время одной итерации)."
   ],
   "metadata": {
    "collapsed": false
   }
  },
  {
   "cell_type": "code",
   "execution_count": 13,
   "outputs": [],
   "source": [
    "def mse0_ (B1, B0,y=y, x=x,n =10):\n",
    "     return np.sum((B0 + B1*x-y)**2)/n"
   ],
   "metadata": {
    "collapsed": false,
    "ExecuteTime": {
     "start_time": "2023-04-12T23:50:31.190879Z",
     "end_time": "2023-04-12T23:50:31.209213Z"
    }
   }
  },
  {
   "cell_type": "code",
   "execution_count": 14,
   "outputs": [
    {
     "name": "stdout",
     "output_type": "stream",
     "text": [
      "Iteration=0 B1=1.6950496217904003  B0=0.1139932 mse=298808.66922912706\n",
      "Iteration=500000 B1=2.8791839426649335  B0=409.03729808290353 mse=6783.645660253098\n",
      "Iteration=1000000 B1=2.6410076607593775  B0=441.3964262548758 mse=6472.375938447427\n",
      "Iteration=1500000 B1=2.622158750522415  B0=443.9572786511766 mse=6470.426487340797\n",
      "Iteration=2000000 B1=2.6206670763125217  B0=444.15994063146525 mse=6470.414278123679\n",
      "Iteration=2500000 B1=2.6205490274745853  B0=444.1759789936681 mse=6470.414201658573\n",
      "Iteration=3000000 B1=2.620539685268393  B0=444.177248245355 mse=6470.414201179681\n"
     ]
    }
   ],
   "source": [
    "alpha = 1e-5\n",
    "B0 = 0.1\n",
    "B1 = 0.1\n",
    "for i in range(3000001):\n",
    "    B0-= alpha *(2/n)* np.sum((B0+B1*x-y))\n",
    "\n",
    "    B1-= alpha *(2/n)* np.sum((B0+B1*x-y)*x)\n",
    "    if i % 500000 == 0:\n",
    "        print(\"Iteration={i} B1={B1}  B0={B0} mse={mse}\". format(i=i, B1=B1,B0=B0, mse=mse0_(B1,B0)))"
   ],
   "metadata": {
    "collapsed": false,
    "ExecuteTime": {
     "start_time": "2023-04-12T23:50:32.747648Z",
     "end_time": "2023-04-12T23:51:29.140038Z"
    }
   }
  }
 ],
 "metadata": {
  "kernelspec": {
   "display_name": "Python 3",
   "language": "python",
   "name": "python3"
  },
  "language_info": {
   "codemirror_mode": {
    "name": "ipython",
    "version": 2
   },
   "file_extension": ".py",
   "mimetype": "text/x-python",
   "name": "python",
   "nbconvert_exporter": "python",
   "pygments_lexer": "ipython2",
   "version": "2.7.6"
  }
 },
 "nbformat": 4,
 "nbformat_minor": 0
}
