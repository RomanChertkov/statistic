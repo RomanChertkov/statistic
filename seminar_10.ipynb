{
 "cells": [
  {
   "cell_type": "code",
   "execution_count": 1,
   "outputs": [],
   "source": [
    "import numpy as np\n",
    "import scipy.stats as stats\n",
    "import pandas as pd\n",
    "from statsmodels.stats.multicomp import pairwise_tukeyhsd\n"
   ],
   "metadata": {
    "collapsed": false,
    "ExecuteTime": {
     "start_time": "2023-04-15T23:59:26.994014Z",
     "end_time": "2023-04-15T23:59:27.871280Z"
    }
   }
  },
  {
   "cell_type": "markdown",
   "source": [
    "# Семинар 1\n",
    "\n",
    "## Задача1\n",
    "\n",
    "Провести дисперсионный анализ для определения того, есть ли различия среднего роста среди взрослых футболистов, хоккеистов и штангистов.\n",
    "\n",
    "Даны значения роста в трех группах случайно выбранных спортсменов:\n",
    "\n",
    "Футболисты: 173, 175, 180, 178, 177, 185, 183, 182.\n",
    "\n",
    "Хоккеисты: 177, 179, 180, 188, 177, 172, 171, 184, 180.\n",
    "\n",
    "Штангисты: 172, 173, 169, 177, 166, 180, 178, 177, 172, 166, 170."
   ],
   "metadata": {
    "collapsed": false
   }
  },
  {
   "cell_type": "code",
   "execution_count": 2,
   "outputs": [],
   "source": [
    "football_players =np.array( [173, 175, 180, 178, 177, 185, 183, 182])\n",
    "hockey_players =np.array( [177, 179, 180, 188, 177, 172, 171, 184, 180])\n",
    "powerlifters =np.array( [172, 173, 169, 177, 166, 180, 178, 177, 172, 166, 170])"
   ],
   "metadata": {
    "collapsed": false,
    "ExecuteTime": {
     "start_time": "2023-04-15T23:59:27.876834Z",
     "end_time": "2023-04-15T23:59:27.880825Z"
    }
   }
  },
  {
   "cell_type": "code",
   "execution_count": 3,
   "outputs": [
    {
     "data": {
      "text/plain": "F_onewayResult(statistic=5.500053450812596, pvalue=0.010482206918698694)"
     },
     "execution_count": 3,
     "metadata": {},
     "output_type": "execute_result"
    }
   ],
   "source": [
    "stats.f_oneway(football_players, hockey_players, powerlifters)"
   ],
   "metadata": {
    "collapsed": false,
    "ExecuteTime": {
     "start_time": "2023-04-15T23:59:27.882959Z",
     "end_time": "2023-04-15T23:59:27.903075Z"
    }
   }
  },
  {
   "cell_type": "markdown",
   "source": [
    "p-value меньше уровня значимости 0.05 =>  принимаем альтернативную гипотезу  (средние значения роста в трех группах различаются)"
   ],
   "metadata": {
    "collapsed": false
   }
  },
  {
   "cell_type": "code",
   "execution_count": 4,
   "outputs": [],
   "source": [
    "df = pd.DataFrame(\n",
    "    {'score': [\n",
    "            173, 175, 180, 178, 177, 185, 183, 182,\n",
    "            177, 179, 180, 188, 177, 172, 171, 184, 180,\n",
    "            172, 173, 169, 177, 166, 180, 178, 177, 172, 166, 170],\n",
    "    'group':['футболисты'] * len(football_players) + ['хоккеисты'] * len(\n",
    "    hockey_players) + ['штангисты'] * len(powerlifters)\n",
    "    }\n",
    "\n",
    ")\n"
   ],
   "metadata": {
    "collapsed": false,
    "ExecuteTime": {
     "start_time": "2023-04-15T23:59:27.902314Z",
     "end_time": "2023-04-15T23:59:27.920258Z"
    }
   }
  },
  {
   "cell_type": "code",
   "execution_count": 5,
   "outputs": [
    {
     "name": "stdout",
     "output_type": "stream",
     "text": [
      "    Multiple Comparison of Means - Tukey HSD, FWER=0.05     \n",
      "============================================================\n",
      "  group1     group2  meandiff p-adj   lower    upper  reject\n",
      "------------------------------------------------------------\n",
      "футболисты хоккеисты  -0.4583  0.979  -6.2732  5.3566  False\n",
      "футболисты штангисты  -6.3977 0.0219 -11.9583 -0.8372   True\n",
      " хоккеисты штангисты  -5.9394 0.0284 -11.3181 -0.5607   True\n",
      "------------------------------------------------------------\n"
     ]
    }
   ],
   "source": [
    "tukey = pairwise_tukeyhsd(df['score'], df['group'], 0.05)\n",
    "print(tukey)"
   ],
   "metadata": {
    "collapsed": false,
    "ExecuteTime": {
     "start_time": "2023-04-15T23:59:27.915462Z",
     "end_time": "2023-04-15T23:59:28.227559Z"
    }
   }
  },
  {
   "cell_type": "markdown",
   "source": [
    "Из результатов расчетов видно, что статистически значимые различия есть только между футболистами и штангисты и группами хоккеистов и штангистов."
   ],
   "metadata": {
    "collapsed": false
   }
  }
 ],
 "metadata": {
  "kernelspec": {
   "display_name": "Python 3",
   "language": "python",
   "name": "python3"
  },
  "language_info": {
   "codemirror_mode": {
    "name": "ipython",
    "version": 2
   },
   "file_extension": ".py",
   "mimetype": "text/x-python",
   "name": "python",
   "nbconvert_exporter": "python",
   "pygments_lexer": "ipython2",
   "version": "2.7.6"
  }
 },
 "nbformat": 4,
 "nbformat_minor": 0
}
