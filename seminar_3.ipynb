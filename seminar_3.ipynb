{
 "cells": [
  {
   "cell_type": "markdown",
   "metadata": {},
   "source": [
    "## Задача 1\n",
    "Даны значения зарплат из выборки выпускников: 100, 80, 75, 77, 89, 33, 45, 25, 65, 17, 30, 24, 57, 55, 70, 75, 65, 84, 90, 150. Посчитать (желательно без использования статистических методов наподобие std, var, mean) среднее арифметическое, среднее квадратичное отклонение, смещенную и несмещенную оценки дисперсий для данной выборки."
   ]
  },
  {
   "cell_type": "code",
   "execution_count": 1,
   "metadata": {},
   "outputs": [],
   "source": [
    "salaries = [100, 80, 75, 77, 89, 33, 45, 25, 65, 17, 30, 24, 57, 55, 70, 75, 65, 84, 90, 150]"
   ]
  },
  {
   "cell_type": "code",
   "execution_count": 2,
   "metadata": {},
   "outputs": [
    {
     "data": {
      "text/plain": "65.3"
     },
     "execution_count": 2,
     "metadata": {},
     "output_type": "execute_result"
    }
   ],
   "source": [
    "# Cреднее арифметическое\n",
    "x = sum(salaries)/len(salaries)\n",
    "x"
   ]
  },
  {
   "cell_type": "code",
   "execution_count": 3,
   "metadata": {},
   "outputs": [
    {
     "data": {
      "text/plain": "30.823854398825596"
     },
     "execution_count": 3,
     "metadata": {},
     "output_type": "execute_result"
    }
   ],
   "source": [
    "# Cреднее квадратичное отклонение\n",
    "std = (sum( (i - x) ** 2 for i in salaries ) / len(salaries) ) ** 0.5\n",
    "std"
   ]
  },
  {
   "cell_type": "code",
   "execution_count": 4,
   "metadata": {},
   "outputs": [
    {
     "data": {
      "text/plain": "950.11"
     },
     "execution_count": 4,
     "metadata": {},
     "output_type": "execute_result"
    }
   ],
   "source": [
    "# Cмещенная  оценка дисперсий\n",
    "var = sum( (i - x) ** 2 for i in salaries ) / len(salaries)\n",
    "var"
   ]
  },
  {
   "cell_type": "code",
   "execution_count": 5,
   "outputs": [
    {
     "data": {
      "text/plain": "1000.1157894736842"
     },
     "execution_count": 5,
     "metadata": {},
     "output_type": "execute_result"
    }
   ],
   "source": [
    "# несмещенная оценка дисперсий\n",
    "var = sum( (i - x) ** 2 for i in salaries ) / (len(salaries) - 1)\n",
    "var"
   ],
   "metadata": {
    "collapsed": false
   }
  },
  {
   "cell_type": "markdown",
   "metadata": {},
   "source": [
    "## Задача 2\n",
    "В первом ящике находится 8 мячей, из которых 5 - белые. Во втором ящике - 12 мячей, из которых 5 белых. Из первого ящика вытаскивают случайным образом два мяча, из второго - 4. Какова вероятность того, что 3 мяча белые?"
   ]
  },
  {
   "cell_type": "code",
   "execution_count": 6,
   "metadata": {},
   "outputs": [],
   "source": [
    "from math import factorial as f"
   ]
  },
  {
   "cell_type": "code",
   "execution_count": 7,
   "metadata": {},
   "outputs": [],
   "source": [
    "# вычисление сочетаний\n",
    "def C(m, n):\n",
    "    return f(m) / f(n) / f(m - n)"
   ]
  },
  {
   "cell_type": "code",
   "execution_count": 8,
   "metadata": {},
   "outputs": [
    {
     "data": {
      "text/plain": "0.3686868686868687"
     },
     "execution_count": 8,
     "metadata": {},
     "output_type": "execute_result"
    }
   ],
   "source": [
    "# Комбинации для 3-х белых мячей из двух ящиков: (0, 3), (1, 2), (2, 1)\n",
    "p_03 = ( C(5,0) * C(3,2) / C(8,2) ) * ( C(5,3) * C(7,1) / C(12, 4) )\n",
    "p_12 = ( C(5,1) * C(3,1) / C(8,2) ) * ( C(5,2) * C(7,2) / C(12, 4) )\n",
    "p_21 = ( C(5,2) * C(3,0) / C(8,2) ) * ( C(5,1) * C(7,3) / C(12, 4) )\n",
    "P = p_03 + p_12 + p_21\n",
    "P"
   ]
  },
  {
   "cell_type": "markdown",
   "metadata": {},
   "source": [
    "## Задача 3\n",
    "На соревновании по биатлону один из трех спортсменов стреляет и попадает в мишень. Вероятность попадания для первого спортсмена равна 0.9, для второго — 0.8, для третьего — 0.6. Найти вероятность того, что выстрел произведен: a). первым спортсменом б). вторым спортсменом в). третьим спортсменом."
   ]
  },
  {
   "cell_type": "code",
   "execution_count": 9,
   "metadata": {},
   "outputs": [],
   "source": [
    "# Необходимо применить формулу Байеса Pab = Pba* Pa / Pb\n",
    "\n",
    "# Pa -  Вероятность попадания в мишень стрелком\n",
    "# Pb - Полная вероятность попадания\n",
    "# Pba - Вероятность попадания в мишень определённым стрелком\n",
    "# Pab - Вероятность того, что выстрел произвёл определённый стрелок и попал\n",
    "\n",
    "Pba1 = 0.9\n",
    "Pba2 = 0.8\n",
    "Pba3 = 0.6\n",
    "Pa = 1/3\n",
    "Pb = Pba1 * 1/3 + Pba2*1/3 + Pba3*1/3"
   ]
  },
  {
   "cell_type": "code",
   "execution_count": 10,
   "metadata": {},
   "outputs": [
    {
     "data": {
      "text/plain": "0.391304347826087"
     },
     "execution_count": 10,
     "metadata": {},
     "output_type": "execute_result"
    }
   ],
   "source": [
    "# Вероятность того, что выстрел произведен первым спортсменом\n",
    "\n",
    "Pa1b = Pba1 * Pa / Pb\n",
    "Pa1b"
   ]
  },
  {
   "cell_type": "code",
   "execution_count": 11,
   "metadata": {},
   "outputs": [
    {
     "data": {
      "text/plain": "0.3478260869565218"
     },
     "execution_count": 11,
     "metadata": {},
     "output_type": "execute_result"
    }
   ],
   "source": [
    "# Вероятность того, что выстрел произведен вторым спортсменом\n",
    "\n",
    "Pa2b = Pba2 * Pa / Pb\n",
    "Pa2b"
   ]
  },
  {
   "cell_type": "code",
   "execution_count": 12,
   "metadata": {},
   "outputs": [
    {
     "data": {
      "text/plain": "0.2608695652173913"
     },
     "execution_count": 12,
     "metadata": {},
     "output_type": "execute_result"
    }
   ],
   "source": [
    "# Вероятность того, что выстрел произведен третьим спортсменом\n",
    "\n",
    "Pa3b = Pba3 * Pa / Pb\n",
    "Pa3b"
   ]
  },
  {
   "cell_type": "markdown",
   "metadata": {},
   "source": [
    "## Задача 4\n",
    "В университет на факультеты A и B поступило равное количество студентов, а на факультет C студентов поступило столько же, сколько на A и B вместе. Вероятность того, что студент факультета A сдаст первую сессию, равна 0.8. Для студента факультета B эта вероятность равна 0.7, а для студента факультета C - 0.9. Студент сдал первую сессию. Какова вероятность, что он учится: a). на факультете A б). на факультете B в). на факультете C?"
   ]
  },
  {
   "cell_type": "code",
   "execution_count": 13,
   "metadata": {},
   "outputs": [],
   "source": [
    "# Необходимо применить формулу Байеса Pab = Pba* Pa / Pb\n",
    "\n",
    "# Pa -  Вероятность того, что студент учится на определённом факультете\n",
    "# Pb - Полная вероятность\n",
    "# Pba - Вероятность того, что студент определённого факультета  сдал сессию\n",
    "# Pab - Вероятность того, что студент учится на факультете и сдал сессию\n",
    "\n",
    "PbaA = 0.8\n",
    "PbaB = 0.7\n",
    "PbaC = 0.9\n",
    "\n",
    "PaA = 1/4\n",
    "PaB = 1/4\n",
    "PaC = 2/4\n",
    "\n",
    "Pb = PbaA * 1/4 + PbaB*1/4 + PbaC*2/4"
   ]
  },
  {
   "cell_type": "code",
   "execution_count": 14,
   "outputs": [
    {
     "data": {
      "text/plain": "0.24242424242424246"
     },
     "execution_count": 14,
     "metadata": {},
     "output_type": "execute_result"
    }
   ],
   "source": [
    "# Вероятность того, что студент учится на факультете A и сдал сессию\n",
    "\n",
    "PabA = PbaA * PaA / Pb\n",
    "PabA"
   ],
   "metadata": {
    "collapsed": false
   }
  },
  {
   "cell_type": "code",
   "execution_count": 15,
   "outputs": [
    {
     "data": {
      "text/plain": "0.21212121212121213"
     },
     "execution_count": 15,
     "metadata": {},
     "output_type": "execute_result"
    }
   ],
   "source": [
    "# Вероятность того, что студент учится на факультете  B и сдал сессию\n",
    "\n",
    "PabB = PbaB * PaB / Pb\n",
    "PabB"
   ],
   "metadata": {
    "collapsed": false
   }
  },
  {
   "cell_type": "code",
   "execution_count": 16,
   "outputs": [
    {
     "data": {
      "text/plain": "0.5454545454545455"
     },
     "execution_count": 16,
     "metadata": {},
     "output_type": "execute_result"
    }
   ],
   "source": [
    "# Вероятность того, что студент учится на факультете  C и сдал сесссию\n",
    "\n",
    "PabC = PbaC * PaC / Pb\n",
    "PabC"
   ],
   "metadata": {
    "collapsed": false
   }
  },
  {
   "cell_type": "markdown",
   "metadata": {},
   "source": [
    "## Задача 5\n",
    "Устройство состоит из трех деталей. Для первой детали вероятность выйти из строя в первый месяц равна 0.1, для второй - 0.2, для третьей - 0.25. Какова вероятность того, что в первый месяц выйдут из строя: а). все детали б). только две детали в). хотя бы одна деталь г). от одной до двух деталей?"
   ]
  },
  {
   "cell_type": "code",
   "execution_count": 17,
   "metadata": {},
   "outputs": [],
   "source": [
    "# Вероятности поломки\n",
    "P1 = 0.1\n",
    "P2 = 0.2\n",
    "P3 = 0.25\n",
    "\n",
    "# Вероятности исправности деталей\n",
    "Q1 = 1-P1\n",
    "Q2 = 1-P2\n",
    "Q3 = 1-P3\n",
    "\n"
   ]
  },
  {
   "cell_type": "code",
   "execution_count": 18,
   "outputs": [
    {
     "data": {
      "text/plain": "0.005000000000000001"
     },
     "execution_count": 18,
     "metadata": {},
     "output_type": "execute_result"
    }
   ],
   "source": [
    "# Вероятность того, что в первый месяц выйдут из строя все детали.\n",
    "P_3 = P1 * P2 * P3\n",
    "P_3\n"
   ],
   "metadata": {
    "collapsed": false
   }
  },
  {
   "cell_type": "code",
   "execution_count": 19,
   "outputs": [
    {
     "data": {
      "text/plain": "0.08000000000000002"
     },
     "execution_count": 19,
     "metadata": {},
     "output_type": "execute_result"
    }
   ],
   "source": [
    "# Вероятность того, что в первый месяц выйдут из строя только две детали\n",
    "P_2 = (P1 * P2 * Q3) + ( P1 * P3 * Q2) + (P2 * P3 * Q1)\n",
    "P_2"
   ],
   "metadata": {
    "collapsed": false
   }
  },
  {
   "cell_type": "code",
   "execution_count": 20,
   "outputs": [
    {
     "data": {
      "text/plain": "0.46"
     },
     "execution_count": 20,
     "metadata": {},
     "output_type": "execute_result"
    }
   ],
   "source": [
    "# Вероятность того, что в первый месяц выйдет из строя хотя бы одна деталь (сломана или 1 или 2 или 3)\n",
    "\n",
    "P_1 =(P1 * Q2 * Q3) + ( P2 * Q1 * Q3) + (P3 * Q2 * Q1) + P_2 + P_3\n",
    "P_1\n"
   ],
   "metadata": {
    "collapsed": false
   }
  },
  {
   "cell_type": "code",
   "execution_count": 21,
   "outputs": [
    {
     "data": {
      "text/plain": "0.455"
     },
     "execution_count": 21,
     "metadata": {},
     "output_type": "execute_result"
    }
   ],
   "source": [
    "# Вероятность того, что в первый месяц выйдет из строя от одной до двух деталей\n",
    "\n",
    "P_12 = (P1 * Q2 * Q3) + ( P2 * Q1 * Q3) + (P3 * Q2 * Q1) + P_2\n",
    "P_12"
   ],
   "metadata": {
    "collapsed": false
   }
  }
 ],
 "metadata": {
  "kernelspec": {
   "display_name": "Python 3 (ipykernel)",
   "language": "python",
   "name": "python3"
  },
  "language_info": {
   "codemirror_mode": {
    "name": "ipython",
    "version": 3
   },
   "file_extension": ".py",
   "mimetype": "text/x-python",
   "name": "python",
   "nbconvert_exporter": "python",
   "pygments_lexer": "ipython3",
   "version": "3.10.6"
  }
 },
 "nbformat": 4,
 "nbformat_minor": 1
}
